{
  "nbformat": 4,
  "nbformat_minor": 0,
  "metadata": {
    "colab": {
      "provenance": [],
      "authorship_tag": "ABX9TyMUHdlW7Z8rateVme5q+mUt",
      "include_colab_link": true
    },
    "kernelspec": {
      "name": "python3",
      "display_name": "Python 3"
    },
    "language_info": {
      "name": "python"
    }
  },
  "cells": [
    {
      "cell_type": "markdown",
      "metadata": {
        "id": "view-in-github",
        "colab_type": "text"
      },
      "source": [
        "<a href=\"https://colab.research.google.com/github/thenewlegend/AITfES/blob/main/AITfES(m).ipynb\" target=\"_parent\"><img src=\"https://colab.research.google.com/assets/colab-badge.svg\" alt=\"Open In Colab\"/></a>"
      ]
    },
    {
      "cell_type": "code",
      "source": [
        "!pip install google-genai\n",
        "import os\n",
        "import google.genai as genai\n",
        "from google.genai import types\n",
        "import json\n",
        "from google.colab import userdata"
      ],
      "metadata": {
        "id": "x-q435y91Tmb",
        "colab": {
          "base_uri": "https://localhost:8080/"
        },
        "outputId": "7ea4cff5-5511-4edd-b2b6-22c524f3e6db"
      },
      "execution_count": 3,
      "outputs": [
        {
          "output_type": "stream",
          "name": "stdout",
          "text": [
            "Requirement already satisfied: google-genai in /usr/local/lib/python3.12/dist-packages (1.38.0)\n",
            "Requirement already satisfied: anyio<5.0.0,>=4.8.0 in /usr/local/lib/python3.12/dist-packages (from google-genai) (4.10.0)\n",
            "Requirement already satisfied: google-auth<3.0.0,>=2.14.1 in /usr/local/lib/python3.12/dist-packages (from google-genai) (2.38.0)\n",
            "Requirement already satisfied: httpx<1.0.0,>=0.28.1 in /usr/local/lib/python3.12/dist-packages (from google-genai) (0.28.1)\n",
            "Requirement already satisfied: pydantic<3.0.0,>=2.0.0 in /usr/local/lib/python3.12/dist-packages (from google-genai) (2.11.9)\n",
            "Requirement already satisfied: requests<3.0.0,>=2.28.1 in /usr/local/lib/python3.12/dist-packages (from google-genai) (2.32.4)\n",
            "Requirement already satisfied: tenacity<9.2.0,>=8.2.3 in /usr/local/lib/python3.12/dist-packages (from google-genai) (8.5.0)\n",
            "Requirement already satisfied: websockets<15.1.0,>=13.0.0 in /usr/local/lib/python3.12/dist-packages (from google-genai) (15.0.1)\n",
            "Requirement already satisfied: typing-extensions<5.0.0,>=4.11.0 in /usr/local/lib/python3.12/dist-packages (from google-genai) (4.15.0)\n",
            "Requirement already satisfied: idna>=2.8 in /usr/local/lib/python3.12/dist-packages (from anyio<5.0.0,>=4.8.0->google-genai) (3.10)\n",
            "Requirement already satisfied: sniffio>=1.1 in /usr/local/lib/python3.12/dist-packages (from anyio<5.0.0,>=4.8.0->google-genai) (1.3.1)\n",
            "Requirement already satisfied: cachetools<6.0,>=2.0.0 in /usr/local/lib/python3.12/dist-packages (from google-auth<3.0.0,>=2.14.1->google-genai) (5.5.2)\n",
            "Requirement already satisfied: pyasn1-modules>=0.2.1 in /usr/local/lib/python3.12/dist-packages (from google-auth<3.0.0,>=2.14.1->google-genai) (0.4.2)\n",
            "Requirement already satisfied: rsa<5,>=3.1.4 in /usr/local/lib/python3.12/dist-packages (from google-auth<3.0.0,>=2.14.1->google-genai) (4.9.1)\n",
            "Requirement already satisfied: certifi in /usr/local/lib/python3.12/dist-packages (from httpx<1.0.0,>=0.28.1->google-genai) (2025.8.3)\n",
            "Requirement already satisfied: httpcore==1.* in /usr/local/lib/python3.12/dist-packages (from httpx<1.0.0,>=0.28.1->google-genai) (1.0.9)\n",
            "Requirement already satisfied: h11>=0.16 in /usr/local/lib/python3.12/dist-packages (from httpcore==1.*->httpx<1.0.0,>=0.28.1->google-genai) (0.16.0)\n",
            "Requirement already satisfied: annotated-types>=0.6.0 in /usr/local/lib/python3.12/dist-packages (from pydantic<3.0.0,>=2.0.0->google-genai) (0.7.0)\n",
            "Requirement already satisfied: pydantic-core==2.33.2 in /usr/local/lib/python3.12/dist-packages (from pydantic<3.0.0,>=2.0.0->google-genai) (2.33.2)\n",
            "Requirement already satisfied: typing-inspection>=0.4.0 in /usr/local/lib/python3.12/dist-packages (from pydantic<3.0.0,>=2.0.0->google-genai) (0.4.1)\n",
            "Requirement already satisfied: charset_normalizer<4,>=2 in /usr/local/lib/python3.12/dist-packages (from requests<3.0.0,>=2.28.1->google-genai) (3.4.3)\n",
            "Requirement already satisfied: urllib3<3,>=1.21.1 in /usr/local/lib/python3.12/dist-packages (from requests<3.0.0,>=2.28.1->google-genai) (2.5.0)\n",
            "Requirement already satisfied: pyasn1<0.7.0,>=0.6.1 in /usr/local/lib/python3.12/dist-packages (from pyasn1-modules>=0.2.1->google-auth<3.0.0,>=2.14.1->google-genai) (0.6.1)\n"
          ]
        }
      ]
    },
    {
      "cell_type": "code",
      "execution_count": 4,
      "metadata": {
        "id": "PMZxnRFWp1mi",
        "colab": {
          "base_uri": "https://localhost:8080/"
        },
        "outputId": "0e2128c8-e5f3-4c0a-9dc0-b9a05b8aeb1e"
      },
      "outputs": [
        {
          "output_type": "stream",
          "name": "stdout",
          "text": [
            "\n",
            "--- Testing Query: 'How is a otto cycle affected by low pressure?' ---\n"
          ]
        },
        {
          "output_type": "stream",
          "name": "stderr",
          "text": [
            "WARNING:google_genai.types:Warning: there are non-text parts in the response: ['thought_signature'], returning concatenated text result from text parts. Check the full candidates.content.parts accessor to get the full model response.\n"
          ]
        },
        {
          "output_type": "stream",
          "name": "stdout",
          "text": [
            "ACTION: Query Rejected.\n",
            "FINAL MODEL RESPONSE: Low pressure significantly impacts an Otto cycle, primarily by reducing the amount of air and fuel that can be drawn into the engine cylinder. Here's a breakdown of the effects:\n",
            "\n",
            "*   **Reduced Volumetric Efficiency:** Lower intake pressure means less air-fuel mixture can enter the cylinder during the intake stroke. This directly reduces the engine's volumetric efficiency.\n",
            "*   **Lower Compression Pressure and Temperature:** With a smaller mass of gas in the cylinder, the compression stroke will result in lower peak compression pressure and temperature.\n",
            "*   **Decreased Power Output:** Since less air and fuel are combusted, the amount of heat released during combustion is reduced. This leads to less work output per cycle and, consequently, lower engine power.\n",
            "*   **Lower Peak Combustion Pressure and Temperature:** The combustion process will achieve lower peak pressures and temperatures due to the smaller amount of fuel reacting.\n",
            "*   **Impact on Thermal Efficiency (Indirect):** While the ideal thermal efficiency of an Otto cycle is primarily dependent on the compression ratio, in a real engine, lower peak combustion temperatures and pressures can slightly affect the completeness of combustion and heat transfer, potentially leading to a minor reduction in real thermal efficiency. Furthermore, pumping losses become a larger fraction of the total work output when the gross work output is lower, which can decrease the indicated or brake thermal efficiency.\n",
            "\n",
            "In essence, low pressure leads to an engine that \"breathes\" less effectively, resulting in a less powerful and potentially less efficient operation due to the reduced amount of energy released per cycle.\n",
            "\n",
            "--- Testing Query: 'What is the movie Up about' ---\n"
          ]
        },
        {
          "output_type": "stream",
          "name": "stderr",
          "text": [
            "WARNING:google_genai.types:Warning: there are non-text parts in the response: ['thought_signature'], returning concatenated text result from text parts. Check the full candidates.content.parts accessor to get the full model response.\n"
          ]
        },
        {
          "output_type": "stream",
          "name": "stdout",
          "text": [
            "ACTION: Query Rejected.\n",
            "FINAL MODEL RESPONSE: Error: Query out of scope. I only handle Energy Engineering troubleshooting.\n"
          ]
        }
      ],
      "source": [
        "import os\n",
        "import google.genai as genai\n",
        "from google.genai import types\n",
        "import json\n",
        "from google.colab import userdata\n",
        "\n",
        "def analyze_energy_query(query: str):\n",
        "    return f\"RESULT: The analysis confirms this is a valid energy engineering query: {query}. Proceeding with detailed response.\"\n",
        "\n",
        "os.environ['GOOGLE_API_KEY'] = userdata.get('GOOGLE_API_KEY')\n",
        "model_name = 'gemini-2.5-flash'\n",
        "model = genai.Client()\n",
        "\n",
        "SYSTEM_INSTRUCTION = \"You are a highly specialized AI assistant. Your sole purpose is to determine if the user's question relates to troubeshooting energy engineering related equipments or processes. If related, you MUST call the 'analyze_energy_query' tool. If NOT related, you MUST respond with the exact text: 'Error: Query out of scope. I only handle Energy Engineering troubleshooting.'\"\n",
        "\n",
        "tests = [\n",
        "    \"How is a otto cycle affected by low pressure?\",\n",
        "    \"What is the movie Up about\"\n",
        "]\n",
        "\n",
        "tools = [analyze_energy_query]\n",
        "\n",
        "for query in tests:\n",
        "    print(f\"\\n--- Testing Query: '{query}' ---\")\n",
        "\n",
        "    response = model.models.generate_content(\n",
        "        model=model_name,\n",
        "        contents=[query],\n",
        "        config=types.GenerateContentConfig(\n",
        "            tools=tools,\n",
        "            system_instruction=SYSTEM_INSTRUCTION\n",
        "        )\n",
        "    )\n",
        "\n",
        "    if response.function_calls:\n",
        "        function_call = response.function_calls[0]\n",
        "\n",
        "        tool_output = globals()[function_call.name](**dict(function_call.args))\n",
        "\n",
        "        final_response = model.models.generate_content(\n",
        "            model=model_name,\n",
        "            contents=[\n",
        "                query,\n",
        "                types.Part.from_function_response(\n",
        "                    name=function_call.name,\n",
        "                    response={'result': tool_output}\n",
        "                )\n",
        "            ],\n",
        "            config=types.GenerateContentConfig(\n",
        "                tools=tools,\n",
        "                system_instruction=SYSTEM_INSTRUCTION\n",
        "            )\n",
        "        )\n",
        "        print(\"ACTION: Function Called and Executed.\")\n",
        "        print(f\"FINAL MODEL RESPONSE: {final_response.text.strip()}\")\n",
        "    else:\n",
        "        print(\"ACTION: Query Rejected.\")\n",
        "        print(f\"FINAL MODEL RESPONSE: {response.text.strip()}\")"
      ]
    }
  ]
}