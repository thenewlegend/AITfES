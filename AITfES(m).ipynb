{
  "nbformat": 4,
  "nbformat_minor": 0,
  "metadata": {
    "colab": {
      "provenance": [],
      "authorship_tag": "ABX9TyNdP+d457Dz4n+Qjd33n3dp",
      "include_colab_link": true
    },
    "kernelspec": {
      "name": "python3",
      "display_name": "Python 3"
    },
    "language_info": {
      "name": "python"
    }
  },
  "cells": [
    {
      "cell_type": "markdown",
      "metadata": {
        "id": "view-in-github",
        "colab_type": "text"
      },
      "source": [
        "<a href=\"https://colab.research.google.com/github/thenewlegend/AITfES/blob/main/AITfES(m).ipynb\" target=\"_parent\"><img src=\"https://colab.research.google.com/assets/colab-badge.svg\" alt=\"Open In Colab\"/></a>"
      ]
    },
    {
      "cell_type": "code",
      "source": [
        "!pip install google-genai\n",
        "import os\n",
        "import google.genai as genai\n",
        "from google.genai import types\n",
        "import json\n",
        "from google.colab import userdata"
      ],
      "metadata": {
        "id": "x-q435y91Tmb"
      },
      "execution_count": null,
      "outputs": []
    },
    {
      "cell_type": "code",
      "execution_count": null,
      "metadata": {
        "id": "PMZxnRFWp1mi"
      },
      "outputs": [],
      "source": [
        "def analyze_energy_query(query: str):\n",
        "    return f\"RESULT: The analysis confirms this is a valid energy engineering query: {query}. Proceeding with detailed response.\"\n",
        "\n",
        "os.environ['GOOGLE_API_KEY'] = userdata.get('GOOGLE_API_KEY')\n",
        "model_name = 'gemini-2.5-flash'\n",
        "model = genai.Client()\n",
        "\n",
        "SYSTEM_INSTRUCTION = \"You are a highly specialized AI assistant. Your sole purpose is to determine if the user's question relates to troubeshooting energy engineering related equipments or processes. If related, you MUST call the 'analyze_energy_query' tool. If NOT related, you MUST respond with the exact text: 'Error: Query out of scope. I only handle Energy Engineering troubleshooting.'\"\n",
        "\n",
        "tests = [\n",
        "    \"How is a otto cycle affected by low pressure?\",\n",
        "    \"What is the largest moon of Saturn?\"\n",
        "]\n",
        "\n",
        "tools = [analyze_energy_query]\n",
        "\n",
        "for query in tests:\n",
        "    print(f\"\\n--- Testing Query: '{query}' ---\")\n",
        "\n",
        "    response = model.models.generate_content(\n",
        "        model=model_name,\n",
        "        contents=[query],\n",
        "        config=types.GenerateContentConfig(\n",
        "            tools=tools,\n",
        "            system_instruction=SYSTEM_INSTRUCTION\n",
        "        )\n",
        "    )\n",
        "\n",
        "    if response.function_calls:\n",
        "        function_call = response.function_calls[0]\n",
        "\n",
        "        tool_output = globals()[function_call.name](**dict(function_call.args))\n",
        "\n",
        "        final_response = model.models.generate_content(\n",
        "            model=model_name,\n",
        "            contents=[\n",
        "                query,\n",
        "                types.Part.from_function_response(\n",
        "                    name=function_call.name,\n",
        "                    response={'result': tool_output}\n",
        "                )\n",
        "            ],\n",
        "            config=types.GenerateContentConfig(\n",
        "                tools=tools,\n",
        "                system_instruction=SYSTEM_INSTRUCTION\n",
        "            )\n",
        "        )\n",
        "        print(\"ACTION: Function Called and Executed.\")\n",
        "        print(f\"FINAL MODEL RESPONSE: {final_response.text.strip()}\")\n",
        "    else:\n",
        "        print(\"ACTION: Query Rejected.\")\n",
        "        print(f\"FINAL MODEL RESPONSE: {response.text.strip()}\")"
      ]
    }
  ]
}