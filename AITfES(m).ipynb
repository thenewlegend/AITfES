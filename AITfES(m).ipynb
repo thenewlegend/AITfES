{
  "nbformat": 4,
  "nbformat_minor": 0,
  "metadata": {
    "colab": {
      "provenance": [],
      "authorship_tag": "ABX9TyPfel2BglN849i4CZxeUWR8"
    },
    "kernelspec": {
      "name": "python3",
      "display_name": "Python 3"
    },
    "language_info": {
      "name": "python"
    }
  },
  "cells": [
    {
      "cell_type": "code",
      "source": [
        "!pip install -q google-genai\n",
        "import os\n",
        "import google.genai as genai\n",
        "from google.genai import types\n",
        "import json\n",
        "import logging\n",
        "logging.getLogger('google_genai').setLevel(logging.ERROR)\n",
        "from google.colab import userdata"
      ],
      "metadata": {
        "id": "x-q435y91Tmb"
      },
      "execution_count": 22,
      "outputs": []
    },
    {
      "cell_type": "code",
      "execution_count": 21,
      "metadata": {
        "id": "PMZxnRFWp1mi",
        "colab": {
          "base_uri": "https://localhost:8080/"
        },
        "outputId": "2057a561-bd92-4816-adfd-251e995b6dc9"
      },
      "outputs": [
        {
          "output_type": "stream",
          "name": "stdout",
          "text": [
            "\n",
            "--- Testing Full Query: 'What is the capital of rome  in energy engineering terms?' ---\n",
            "ACTION: Query Rejected.\n",
            "Error: Query out of scope. I only handle Energy Engineering troubleshooting.\n"
          ]
        }
      ],
      "source": [
        "QUERY = \"What is the capital of rome  in energy engineering terms?\" # @param {\"type\":\"string\",\"placeholder\":\"-------\"}\n",
        "\n",
        "def analyze_energy_query(query: str):\n",
        "    return f\"RESULT: The analysis confirms this is a valid energy engineering query: {query}. Proceeding with detailed response.\"\n",
        "\n",
        "os.environ['GOOGLE_API_KEY'] = userdata.get('GOOGLE_API_KEY')\n",
        "model_name = 'gemini-2.5-flash'\n",
        "model = genai.Client()\n",
        "\n",
        "SYSTEM_INSTRUCTION = \"You are a highly specialized AI assistant. Your sole purpose is to determine if the user's question relates to troubeshooting energy engineering related equipments or processes. If related, you MUST call the 'analyze_energy_query' tool. If NOT related, you MUST respond with the exact text: 'Error: Query out of scope. I only handle Energy Engineering troubleshooting.'\"\n",
        "\n",
        "\n",
        "tools = [analyze_energy_query]\n",
        "\n",
        "query = QUERY;\n",
        "print(f\"\\n--- Testing Full Query: '{query}' ---\")\n",
        "\n",
        "response = model.models.generate_content(\n",
        "    model=model_name,\n",
        "    contents=[query],\n",
        "    config=types.GenerateContentConfig(\n",
        "        tools=tools,\n",
        "        system_instruction=SYSTEM_INSTRUCTION\n",
        "    )\n",
        "  )\n",
        "if response.function_calls:\n",
        "    function_call = response.function_calls[0]\n",
        "\n",
        "    # 1. Execute the tool function\n",
        "    tool_output = globals()[function_call.name](**dict(function_call.args))\n",
        "\n",
        "    # 2. Call the model again with the tool output\n",
        "    final_response = model.models.generate_content(\n",
        "        model=model_name,\n",
        "        contents=[\n",
        "            query,\n",
        "            types.Part.from_function_response(\n",
        "                name=function_call.name,\n",
        "                response={'result': tool_output}\n",
        "            )\n",
        "        ],\n",
        "        config=types.GenerateContentConfig(\n",
        "            tools=tools,\n",
        "            system_instruction=SYSTEM_INSTRUCTION\n",
        "        )\n",
        "    )\n",
        "    print(\"ACTION: Function Called and Executed.\")\n",
        "    print(f\"{final_response.text}\")\n",
        "else:\n",
        "    print(\"ACTION: Query Rejected.\")\n",
        "    print(f\"{response.text}\")"
      ]
    },
    {
      "cell_type": "code",
      "source": [],
      "metadata": {
        "id": "O34FTLi4TD41"
      },
      "execution_count": null,
      "outputs": []
    }
  ]
}